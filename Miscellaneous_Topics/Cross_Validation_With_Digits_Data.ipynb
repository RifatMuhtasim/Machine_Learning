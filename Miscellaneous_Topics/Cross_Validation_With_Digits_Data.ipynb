{
  "nbformat": 4,
  "nbformat_minor": 0,
  "metadata": {
    "colab": {
      "provenance": [],
      "gpuType": "T4",
      "authorship_tag": "ABX9TyP4H+yiOhLgu4aI/m9bNhRU",
      "include_colab_link": true
    },
    "kernelspec": {
      "name": "python3",
      "display_name": "Python 3"
    },
    "language_info": {
      "name": "python"
    },
    "accelerator": "GPU"
  },
  "cells": [
    {
      "cell_type": "markdown",
      "metadata": {
        "id": "view-in-github",
        "colab_type": "text"
      },
      "source": [
        "<a href=\"https://colab.research.google.com/github/RifatMuhtasim/Machine_Learning/blob/main/Miscellaneous_Topics/Cross_Validation_With_Digits_Data.ipynb\" target=\"_parent\"><img src=\"https://colab.research.google.com/assets/colab-badge.svg\" alt=\"Open In Colab\"/></a>"
      ]
    },
    {
      "cell_type": "markdown",
      "source": [
        "**Cross Validation:** <br/>\n",
        "Cross-validation allows us to compare different Machine Learning methods and get a sense of how well they work in practice."
      ],
      "metadata": {
        "id": "w3UT0VaxNIsu"
      }
    },
    {
      "cell_type": "code",
      "execution_count": 1,
      "metadata": {
        "id": "FiPX-Hfb8QHx"
      },
      "outputs": [],
      "source": [
        "import pandas as pd\n",
        "import numpy as np\n",
        "from matplotlib import pyplot as plt\n",
        "from sklearn.model_selection import train_test_split\n",
        "\n",
        "from sklearn.linear_model import LogisticRegression\n",
        "from sklearn.svm import SVC\n",
        "from sklearn.ensemble import RandomForestClassifier"
      ]
    },
    {
      "cell_type": "code",
      "source": [
        "# Import Digits Dataset\n",
        "from sklearn.datasets import load_digits\n",
        "digits = load_digits()\n",
        "dir(digits)"
      ],
      "metadata": {
        "colab": {
          "base_uri": "https://localhost:8080/"
        },
        "id": "sF6Uzlfy9Kvj",
        "outputId": "607e68a9-d16c-468a-d260-cb0938e80350"
      },
      "execution_count": 2,
      "outputs": [
        {
          "output_type": "execute_result",
          "data": {
            "text/plain": [
              "['DESCR', 'data', 'feature_names', 'frame', 'images', 'target', 'target_names']"
            ]
          },
          "metadata": {},
          "execution_count": 2
        }
      ]
    },
    {
      "cell_type": "markdown",
      "source": [
        "## Compare the Different Model with Manual Process."
      ],
      "metadata": {
        "id": "IiDa2rdM_gZu"
      }
    },
    {
      "cell_type": "code",
      "source": [
        "# Train Test Split\n",
        "X_train, X_test, y_train, y_test = train_test_split(digits['data'], digits['target'], test_size=0.25)"
      ],
      "metadata": {
        "id": "P5B-uGL3-NFv"
      },
      "execution_count": 3,
      "outputs": []
    },
    {
      "cell_type": "code",
      "source": [
        "# Logistic Regression\n",
        "lr = LogisticRegression(max_iter=5000)\n",
        "lr.fit(X_train, y_train)\n",
        "lr.score(X_test, y_test)"
      ],
      "metadata": {
        "colab": {
          "base_uri": "https://localhost:8080/"
        },
        "id": "zyLZot0s9Kta",
        "outputId": "df68b21f-9320-4db7-a139-f03046802065"
      },
      "execution_count": 4,
      "outputs": [
        {
          "output_type": "execute_result",
          "data": {
            "text/plain": [
              "0.9688888888888889"
            ]
          },
          "metadata": {},
          "execution_count": 4
        }
      ]
    },
    {
      "cell_type": "code",
      "source": [
        "# SVM\n",
        "svm = SVC()\n",
        "svm.fit(X_train, y_train)\n",
        "svm.score(X_test, y_test)"
      ],
      "metadata": {
        "colab": {
          "base_uri": "https://localhost:8080/"
        },
        "id": "SCXDz2zU9KrS",
        "outputId": "ebc73978-f46e-488d-ddb1-1b7713de0888"
      },
      "execution_count": 5,
      "outputs": [
        {
          "output_type": "execute_result",
          "data": {
            "text/plain": [
              "0.9911111111111112"
            ]
          },
          "metadata": {},
          "execution_count": 5
        }
      ]
    },
    {
      "cell_type": "code",
      "source": [
        "# Random Forest\n",
        "rf = RandomForestClassifier()\n",
        "rf.fit(X_train, y_train)\n",
        "rf.score(X_test, y_test)"
      ],
      "metadata": {
        "colab": {
          "base_uri": "https://localhost:8080/"
        },
        "id": "mNsetQj79Ko5",
        "outputId": "2f4d8f55-1dfd-435a-9871-1580b35b867a"
      },
      "execution_count": 6,
      "outputs": [
        {
          "output_type": "execute_result",
          "data": {
            "text/plain": [
              "0.9844444444444445"
            ]
          },
          "metadata": {},
          "execution_count": 6
        }
      ]
    },
    {
      "cell_type": "markdown",
      "source": [
        "### Using Function"
      ],
      "metadata": {
        "id": "YeW_EOLNBHJu"
      }
    },
    {
      "cell_type": "code",
      "source": [
        "def Get_score(model, X_train, X_test, y_train, y_test):\n",
        "  model.fit(X_train, y_train)\n",
        "  return model.score(X_test, y_test)"
      ],
      "metadata": {
        "id": "uTqjqrCQBJH9"
      },
      "execution_count": 7,
      "outputs": []
    },
    {
      "cell_type": "code",
      "source": [
        "print( \"Logistic Regression:\", Get_score(LogisticRegression(max_iter=5000), X_train, X_test, y_train, y_test) )\n",
        "\n",
        "print( \"Support Vector Machine:\", Get_score(SVC(), X_train, X_test, y_train, y_test) )\n",
        "\n",
        "print( \"Random Forest:\", Get_score(RandomForestClassifier(n_estimators=100), X_train, X_test, y_train, y_test) )"
      ],
      "metadata": {
        "colab": {
          "base_uri": "https://localhost:8080/"
        },
        "id": "3mu461OnBcHu",
        "outputId": "eac22a2b-84ae-4759-e549-1d5c510c834e"
      },
      "execution_count": 8,
      "outputs": [
        {
          "output_type": "stream",
          "name": "stdout",
          "text": [
            "Logistic Regression: 0.9688888888888889\n",
            "Support Vector Machine: 0.9911111111111112\n",
            "Random Forest: 0.9777777777777777\n"
          ]
        }
      ]
    },
    {
      "cell_type": "markdown",
      "source": [
        "## Using the K Fold Process"
      ],
      "metadata": {
        "id": "JRe2LSi9Ac-b"
      }
    },
    {
      "cell_type": "markdown",
      "source": [
        "### model.selection: KFold"
      ],
      "metadata": {
        "id": "OuXZbtOGFds0"
      }
    },
    {
      "cell_type": "code",
      "source": [
        "from sklearn.model_selection import KFold\n",
        "\n",
        "kf = KFold(n_splits=4)\n",
        "kf"
      ],
      "metadata": {
        "colab": {
          "base_uri": "https://localhost:8080/"
        },
        "id": "X2SDXnkbABcx",
        "outputId": "b1297041-e2ec-4c56-d48e-1a30ac298f15"
      },
      "execution_count": 9,
      "outputs": [
        {
          "output_type": "execute_result",
          "data": {
            "text/plain": [
              "KFold(n_splits=4, random_state=None, shuffle=False)"
            ]
          },
          "metadata": {},
          "execution_count": 9
        }
      ]
    },
    {
      "cell_type": "code",
      "source": [
        "dummy_df = [0,1,2,3,4,5,6,7,8,9]\n",
        "\n",
        "for train_index, test_index in kf.split(dummy_df):\n",
        "  print(train_index, test_index)\n"
      ],
      "metadata": {
        "colab": {
          "base_uri": "https://localhost:8080/"
        },
        "id": "4ZcE0B_PAo1s",
        "outputId": "5ef2dfb4-016b-476e-c666-f4d2d0cb53f9"
      },
      "execution_count": 10,
      "outputs": [
        {
          "output_type": "stream",
          "name": "stdout",
          "text": [
            "[3 4 5 6 7 8 9] [0 1 2]\n",
            "[0 1 2 6 7 8 9] [3 4 5]\n",
            "[0 1 2 3 4 5 8 9] [6 7]\n",
            "[0 1 2 3 4 5 6 7] [8 9]\n"
          ]
        }
      ]
    },
    {
      "cell_type": "code",
      "source": [
        "from sklearn.model_selection import StratifiedKFold\n",
        "\n",
        "folds = StratifiedKFold(n_splits=4)\n",
        "folds"
      ],
      "metadata": {
        "colab": {
          "base_uri": "https://localhost:8080/"
        },
        "id": "SlI8QfVJLgXe",
        "outputId": "6f55c4f0-ada1-427f-c2fe-65aa8b5d7883"
      },
      "execution_count": 11,
      "outputs": [
        {
          "output_type": "execute_result",
          "data": {
            "text/plain": [
              "StratifiedKFold(n_splits=4, random_state=None, shuffle=False)"
            ]
          },
          "metadata": {},
          "execution_count": 11
        }
      ]
    },
    {
      "cell_type": "markdown",
      "source": [
        "### Model Selection: cross_val_score"
      ],
      "metadata": {
        "id": "J7_2wrYmJc_e"
      }
    },
    {
      "cell_type": "code",
      "source": [
        "from sklearn.model_selection import cross_val_score"
      ],
      "metadata": {
        "id": "_oK5JLrRFAns"
      },
      "execution_count": 12,
      "outputs": []
    },
    {
      "cell_type": "code",
      "source": [
        "# Logistic Regression\n",
        "\n",
        "cross_val_score(LogisticRegression(max_iter=5000), digits['data'], digits['target'])"
      ],
      "metadata": {
        "colab": {
          "base_uri": "https://localhost:8080/"
        },
        "id": "DYJxenBLJ93v",
        "outputId": "5783e2f5-99c7-4e7d-91ad-ebd1f5e7603c"
      },
      "execution_count": 13,
      "outputs": [
        {
          "output_type": "execute_result",
          "data": {
            "text/plain": [
              "array([0.925     , 0.87777778, 0.93871866, 0.93314763, 0.89693593])"
            ]
          },
          "metadata": {},
          "execution_count": 13
        }
      ]
    },
    {
      "cell_type": "code",
      "source": [
        "# SVM\n",
        "\n",
        "cross_val_score(SVC(), digits['data'], digits['target'])"
      ],
      "metadata": {
        "colab": {
          "base_uri": "https://localhost:8080/"
        },
        "id": "s--_IW2MKK3p",
        "outputId": "46c06d76-b52a-47c3-9c9f-b14b4268c5b6"
      },
      "execution_count": 14,
      "outputs": [
        {
          "output_type": "execute_result",
          "data": {
            "text/plain": [
              "array([0.96111111, 0.94444444, 0.98328691, 0.98885794, 0.93871866])"
            ]
          },
          "metadata": {},
          "execution_count": 14
        }
      ]
    },
    {
      "cell_type": "code",
      "source": [
        "# Random Forest\n",
        "\n",
        "cross_val_score(RandomForestClassifier(n_estimators=100), digits['data'], digits['target'])"
      ],
      "metadata": {
        "colab": {
          "base_uri": "https://localhost:8080/"
        },
        "id": "b8zMl2wHKewK",
        "outputId": "ba0bbb7a-a707-42a2-c889-11e1e57bd316"
      },
      "execution_count": 15,
      "outputs": [
        {
          "output_type": "execute_result",
          "data": {
            "text/plain": [
              "array([0.93333333, 0.90555556, 0.94986072, 0.97214485, 0.92200557])"
            ]
          },
          "metadata": {},
          "execution_count": 15
        }
      ]
    }
  ]
}